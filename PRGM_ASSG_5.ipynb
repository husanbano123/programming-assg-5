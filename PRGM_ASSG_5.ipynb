{
 "cells": [
  {
   "cell_type": "code",
   "execution_count": 1,
   "id": "5756eea3",
   "metadata": {},
   "outputs": [
    {
     "name": "stdout",
     "output_type": "stream",
     "text": [
      "Object `LCM` not found.\n",
      "Object `HCF` not found.\n",
      "Object `Hexadecimal` not found.\n",
      "Object `character` not found.\n",
      "Object `operations` not found.\n"
     ]
    }
   ],
   "source": [
    "1.\tWrite a Python Program to Find LCM?\n",
    "2.\tWrite a Python Program to Find HCF?\n",
    "3.\tWrite a Python Program to Convert Decimal to Binary, Octal and Hexadecimal?\n",
    "4.\tWrite a Python Program To Find ASCII value of a character?\n",
    "5.\tWrite a Python Program to Make a Simple Calculator with 4 basic mathematical operations?\n"
   ]
  },
  {
   "cell_type": "code",
   "execution_count": 1,
   "id": "b5e73125",
   "metadata": {},
   "outputs": [
    {
     "name": "stdout",
     "output_type": "stream",
     "text": [
      "enter any no:16\n",
      "enter any no:20\n",
      "the lCM is 80\n"
     ]
    }
   ],
   "source": [
    "#q1 find lcm\n",
    "def compute_lcm(x,y):\n",
    "\n",
    "    if x>y:\n",
    "        greater=x\n",
    "    else:\n",
    "            greater=y\n",
    "    while(True):\n",
    "        if((greater%x==0) and (greater%y==0)):\n",
    "            lcm=greater\n",
    "            break\n",
    "        greater +=1\n",
    "    return lcm\n",
    "n1=int(input(\"enter any no:\"))\n",
    "n2=int(input(\"enter any no:\"))\n",
    "print(\"the lCM is\",compute_lcm(n1,n2))\n"
   ]
  },
  {
   "cell_type": "code",
   "execution_count": 2,
   "id": "0559119f",
   "metadata": {},
   "outputs": [
    {
     "name": "stdout",
     "output_type": "stream",
     "text": [
      "enter any no:12\n",
      "enter any no:8\n",
      "the HCF is 4\n"
     ]
    }
   ],
   "source": [
    "#q2 find hcf\n",
    "def compute_hcf(x,y):\n",
    "    if (x>y):\n",
    "        smaller=x\n",
    "    else:\n",
    "            smaller=y\n",
    "    for i in range(1,smaller+1):\n",
    "        if((x%i==0) and (y%i==0)):\n",
    "            hcf=i\n",
    "    return hcf\n",
    "        \n",
    "n1=int(input(\"enter any no:\"))\n",
    "n2=int(input(\"enter any no:\"))\n",
    "print(\"the HCF is\",compute_hcf(n1,n2))\n"
   ]
  },
  {
   "cell_type": "code",
   "execution_count": 7,
   "id": "95150a58",
   "metadata": {},
   "outputs": [
    {
     "name": "stdout",
     "output_type": "stream",
     "text": [
      "enter any no:20\n",
      " The decimal value of  20 is:\n",
      "0b10100 in binary\n",
      "0o24 in octal\n",
      "0x14 in hexadecimal\n"
     ]
    }
   ],
   "source": [
    "#q3  Convert Decimal to Binary, Octal and Hexadecimal\n",
    "dec=int(input(\"enter any no:\"))\n",
    "print(\" The decimal value of \",dec,\"is:\")\n",
    "print(bin(dec),\"in binary\")\n",
    "print(oct(dec),\"in octal\")\n",
    "print(hex(dec),\"in hexadecimal\")"
   ]
  },
  {
   "cell_type": "code",
   "execution_count": 8,
   "id": "65b30583",
   "metadata": {},
   "outputs": [
    {
     "name": "stdout",
     "output_type": "stream",
     "text": [
      "enter any characater:K\n",
      "The ASCII value of 'K' is 75\n"
     ]
    }
   ],
   "source": [
    "#q4 ASCII value of a character?\n",
    "c=input(\"enter any characater:\")\n",
    "print(\"The ASCII value of '\"+ c +\"' is\",ord(c))"
   ]
  },
  {
   "cell_type": "code",
   "execution_count": 9,
   "id": "e93b4c5c",
   "metadata": {},
   "outputs": [
    {
     "name": "stdout",
     "output_type": "stream",
     "text": [
      "select operation:\n",
      "1.Addition\n",
      "2.multiplication\n",
      "3.substraction\n",
      "4.division\n",
      "enter choice(1/2/3/4):2\n",
      "enter first no:5\n",
      "enter second no:9\n",
      "5 * 9 = 45\n",
      "let's do next calculation?(yes/no):no\n"
     ]
    }
   ],
   "source": [
    "#q5 Simple Calculator with 4 basic mathematical operations?\n",
    "def add(x,y):\n",
    "    return x+y\n",
    "def mul(x,y):\n",
    "    return x*y\n",
    "def sub(x,y):\n",
    "    return x-y\n",
    "def div(x,y):\n",
    "    return x/y\n",
    "\n",
    "print(\"select operation:\")\n",
    "print(\"1.Addition\")\n",
    "print(\"2.multiplication\")\n",
    "print(\"3.substraction\")\n",
    "print(\"4.division\")\n",
    "\n",
    "while True:\n",
    "    choice=input(\"enter choice(1/2/3/4):\")\n",
    "    if choice in ('1','2','3','4'):\n",
    "        n1=int(input(\"enter first no:\"))\n",
    "        n2=int(input(\"enter second no:\"))\n",
    "        if choice=='1':\n",
    "            print(n1,\"+\",n2,\"=\",add(n1,n2))\n",
    "        elif choice=='2':\n",
    "            print(n1,\"*\",n2,\"=\",mul(n1,n2))\n",
    "        elif choice=='3':\n",
    "            print(n1,\"-\",n2,\"=\",sub(n1,n2))\n",
    "        elif choice=='4':\n",
    "            print(n1,\"/\",n2,\"=\",div(n1,n2))\n",
    "        \n",
    "        next_calculation=input(\"let's do next calculation?(yes/no):\")\n",
    "        if next_calculation=='no':\n",
    "            break\n",
    "    else:  \n",
    "        print(\"invalid\")\n",
    "        \n",
    "\n",
    "\n",
    "\n",
    "\n"
   ]
  },
  {
   "cell_type": "code",
   "execution_count": null,
   "id": "bf018a00",
   "metadata": {},
   "outputs": [],
   "source": []
  },
  {
   "cell_type": "code",
   "execution_count": null,
   "id": "468b3b22",
   "metadata": {},
   "outputs": [],
   "source": []
  }
 ],
 "metadata": {
  "kernelspec": {
   "display_name": "Python 3 (ipykernel)",
   "language": "python",
   "name": "python3"
  },
  "language_info": {
   "codemirror_mode": {
    "name": "ipython",
    "version": 3
   },
   "file_extension": ".py",
   "mimetype": "text/x-python",
   "name": "python",
   "nbconvert_exporter": "python",
   "pygments_lexer": "ipython3",
   "version": "3.9.7"
  }
 },
 "nbformat": 4,
 "nbformat_minor": 5
}
